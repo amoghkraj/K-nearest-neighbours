{
 "cells": [
  {
   "cell_type": "markdown",
   "metadata": {},
   "source": [
    "# Homework 2  (Due: 10/15/2018)\n",
    "\n",
    "COEN 281, Fall 2018  \n",
    "Professor Marwah\n",
    "\n",
    "---"
   ]
  },
  {
   "cell_type": "markdown",
   "metadata": {},
   "source": [
    "The objective of this HW is to implement k-NN and cross-validation to find the best value of $k$ for a binary classification task. The task to diagnose breast cancer based on 30 numeric features. However, to keep things simple, we will only use two of those features. The output is binary: 0 benign, 1 malignant. In all there are 569 examples, which we will split into training and test sets. There are no missing values. "
   ]
  },
  {
   "cell_type": "code",
   "execution_count": 56,
   "metadata": {},
   "outputs": [],
   "source": [
    "# load the data set\n",
    "import numpy as np\n",
    "import sklearn.datasets\n",
    "dat = sklearn.datasets.load_breast_cancer()"
   ]
  },
  {
   "cell_type": "code",
   "execution_count": 57,
   "metadata": {},
   "outputs": [
    {
     "name": "stdout",
     "output_type": "stream",
     "text": [
      "Breast Cancer Wisconsin (Diagnostic) Database\n",
      "=============================================\n",
      "\n",
      "Notes\n",
      "-----\n",
      "Data Set Characteristics:\n",
      "    :Number of Instances: 569\n",
      "\n",
      "    :Number of Attributes: 30 numeric, predictive attributes and the class\n",
      "\n",
      "    :Attribute Information:\n",
      "        - radius (mean of distances from center to points on the perimeter)\n",
      "        - texture (standard deviation of gray-scale values)\n",
      "        - perimeter\n",
      "        - area\n",
      "        - smoothness (local variation in radius lengths)\n",
      "        - compactness (perimeter^2 / area - 1.0)\n",
      "        - concavity (severity of concave portions of the contour)\n",
      "        - concave points (number of concave portions of the contour)\n",
      "        - symmetry \n",
      "        - fractal dimension (\"coastline approximation\" - 1)\n",
      "\n",
      "        The mean, standard error, and \"worst\" or largest (mean of the three\n",
      "        largest values) of these features were computed for each image,\n",
      "        resulting in 30 features.  For instance, field 3 is Mean Radius, field\n",
      "        13 is Radius SE, field 23 is Worst Radius.\n",
      "\n",
      "        - class:\n",
      "                - WDBC-Malignant\n",
      "                - WDBC-Benign\n",
      "\n",
      "    :Summary Statistics:\n",
      "\n",
      "    ===================================== ====== ======\n",
      "                                           Min    Max\n",
      "    ===================================== ====== ======\n",
      "    radius (mean):                        6.981  28.11\n",
      "    texture (mean):                       9.71   39.28\n",
      "    perimeter (mean):                     43.79  188.5\n",
      "    area (mean):                          143.5  2501.0\n",
      "    smoothness (mean):                    0.053  0.163\n",
      "    compactness (mean):                   0.019  0.345\n",
      "    concavity (mean):                     0.0    0.427\n",
      "    concave points (mean):                0.0    0.201\n",
      "    symmetry (mean):                      0.106  0.304\n",
      "    fractal dimension (mean):             0.05   0.097\n",
      "    radius (standard error):              0.112  2.873\n",
      "    texture (standard error):             0.36   4.885\n",
      "    perimeter (standard error):           0.757  21.98\n",
      "    area (standard error):                6.802  542.2\n",
      "    smoothness (standard error):          0.002  0.031\n",
      "    compactness (standard error):         0.002  0.135\n",
      "    concavity (standard error):           0.0    0.396\n",
      "    concave points (standard error):      0.0    0.053\n",
      "    symmetry (standard error):            0.008  0.079\n",
      "    fractal dimension (standard error):   0.001  0.03\n",
      "    radius (worst):                       7.93   36.04\n",
      "    texture (worst):                      12.02  49.54\n",
      "    perimeter (worst):                    50.41  251.2\n",
      "    area (worst):                         185.2  4254.0\n",
      "    smoothness (worst):                   0.071  0.223\n",
      "    compactness (worst):                  0.027  1.058\n",
      "    concavity (worst):                    0.0    1.252\n",
      "    concave points (worst):               0.0    0.291\n",
      "    symmetry (worst):                     0.156  0.664\n",
      "    fractal dimension (worst):            0.055  0.208\n",
      "    ===================================== ====== ======\n",
      "\n",
      "    :Missing Attribute Values: None\n",
      "\n",
      "    :Class Distribution: 212 - Malignant, 357 - Benign\n",
      "\n",
      "    :Creator:  Dr. William H. Wolberg, W. Nick Street, Olvi L. Mangasarian\n",
      "\n",
      "    :Donor: Nick Street\n",
      "\n",
      "    :Date: November, 1995\n",
      "\n",
      "This is a copy of UCI ML Breast Cancer Wisconsin (Diagnostic) datasets.\n",
      "https://goo.gl/U2Uwz2\n",
      "\n",
      "Features are computed from a digitized image of a fine needle\n",
      "aspirate (FNA) of a breast mass.  They describe\n",
      "characteristics of the cell nuclei present in the image.\n",
      "\n",
      "Separating plane described above was obtained using\n",
      "Multisurface Method-Tree (MSM-T) [K. P. Bennett, \"Decision Tree\n",
      "Construction Via Linear Programming.\" Proceedings of the 4th\n",
      "Midwest Artificial Intelligence and Cognitive Science Society,\n",
      "pp. 97-101, 1992], a classification method which uses linear\n",
      "programming to construct a decision tree.  Relevant features\n",
      "were selected using an exhaustive search in the space of 1-4\n",
      "features and 1-3 separating planes.\n",
      "\n",
      "The actual linear program used to obtain the separating plane\n",
      "in the 3-dimensional space is that described in:\n",
      "[K. P. Bennett and O. L. Mangasarian: \"Robust Linear\n",
      "Programming Discrimination of Two Linearly Inseparable Sets\",\n",
      "Optimization Methods and Software 1, 1992, 23-34].\n",
      "\n",
      "This database is also available through the UW CS ftp server:\n",
      "\n",
      "ftp ftp.cs.wisc.edu\n",
      "cd math-prog/cpo-dataset/machine-learn/WDBC/\n",
      "\n",
      "References\n",
      "----------\n",
      "   - W.N. Street, W.H. Wolberg and O.L. Mangasarian. Nuclear feature extraction \n",
      "     for breast tumor diagnosis. IS&T/SPIE 1993 International Symposium on \n",
      "     Electronic Imaging: Science and Technology, volume 1905, pages 861-870,\n",
      "     San Jose, CA, 1993.\n",
      "   - O.L. Mangasarian, W.N. Street and W.H. Wolberg. Breast cancer diagnosis and \n",
      "     prognosis via linear programming. Operations Research, 43(4), pages 570-577, \n",
      "     July-August 1995.\n",
      "   - W.H. Wolberg, W.N. Street, and O.L. Mangasarian. Machine learning techniques\n",
      "     to diagnose breast cancer from fine-needle aspirates. Cancer Letters 77 (1994) \n",
      "     163-171.\n",
      "\n"
     ]
    }
   ],
   "source": [
    "# uncomment the following and run it to get a description of the data set\n",
    "print(dat.DESCR)"
   ]
  },
  {
   "cell_type": "code",
   "execution_count": 3,
   "metadata": {},
   "outputs": [
    {
     "data": {
      "text/plain": [
       "dict_keys(['data', 'target', 'target_names', 'DESCR', 'feature_names'])"
      ]
     },
     "execution_count": 3,
     "metadata": {},
     "output_type": "execute_result"
    }
   ],
   "source": [
    "# dat is a dictionary with the data, let's see what keys it has\n",
    "dat.keys()"
   ]
  },
  {
   "cell_type": "code",
   "execution_count": 58,
   "metadata": {},
   "outputs": [],
   "source": [
    "# we will use two features: 'mean area' and 'mean concave points'\n",
    "ix1 = np.where(dat[\"feature_names\"] == \"mean area\")[0][0]\n",
    "ix2 = np.where(dat[\"feature_names\"] == \"mean concave points\")[0][0]"
   ]
  },
  {
   "cell_type": "code",
   "execution_count": 59,
   "metadata": {},
   "outputs": [
    {
     "name": "stdout",
     "output_type": "stream",
     "text": [
      "(569, 2) (569,)\n",
      "Number of points: 569\n",
      "range (min, max), X1: (143.50, 2501.00), X2: (0.00, 0.20)\n",
      "mean: 654.89, 0.05\n",
      "variance: 123843.55, 0.001506\n",
      "\n",
      "yes it is as both the features are in differnt scales and as they differ by a lot, the feature with the higher magnitude can dominate while calculating the euclidian distances.\n"
     ]
    }
   ],
   "source": [
    "X = dat[\"data\"][:,(ix1,ix2)]\n",
    "Y = dat[\"target\"]\n",
    "\n",
    "# verify shape of X and Y\n",
    "print(X.shape, Y.shape)\n",
    "\n",
    "# stats of the two features\n",
    "from scipy import stats\n",
    "st = stats.describe(X)\n",
    "print(\"Number of points: %i\" % st.nobs)\n",
    "print(\"range (min, max), X1: (%.2f, %.2f), X2: (%.2f, %.2f)\" % (st.minmax[0][0], st.minmax[1][0], st.minmax[0][1], st.minmax[1][1]))\n",
    "print(\"mean: %.2f, %.2f\" % (st.mean[0], st.mean[1]))\n",
    "print(\"variance: %.2f, %f\" % (st.variance[0], st.variance[1]))\n",
    "\n",
    "# Given the stats, is it a good idea to normalize the features? \n",
    "#yes it is as both the features are in differnt scales and as they differ by a lot, the feature with the higher magnitude can dominate while calculating the euclidian distances.\n",
    "\n",
    "#\n",
    "# add code to normalize features\n",
    "#\n",
    "print()\n",
    "print(\"yes it is as both the features are in differnt scales and as they differ by a lot, the feature with the higher magnitude can dominate while calculating the euclidian distances.\")\n",
    "for i in range(X.shape[1]):\n",
    "    X[:,i]=(X[:,i]-X[:,i].min())/(X[:,i].max()-X[:,i].min())\n",
    "\n",
    "#print((np.around(normalized_df,3)))"
   ]
  },
  {
   "cell_type": "code",
   "execution_count": 60,
   "metadata": {
    "scrolled": true
   },
   "outputs": [
    {
     "name": "stdout",
     "output_type": "stream",
     "text": [
      "(398, 2) (398,) (171, 2) (171,)\n"
     ]
    }
   ],
   "source": [
    "# split into training set / test set\n",
    "#\n",
    "# usually you would do the split randomly; here for deterministic results, we assume the data \n",
    "# points are already shuffled and take the first 70% as training and the rest as test\n",
    "#\n",
    "nTot = X.shape[0]\n",
    "nTr = int(nTot*0.7)\n",
    "nTs = nTot - nTr\n",
    "\n",
    "Xtr = X[0:nTr,]\n",
    "Ytr = Y[0:nTr]\n",
    "\n",
    "Xts = X[nTr:nTot,]\n",
    "Yts = Y[nTr:nTot,]\n",
    "\n",
    "# verify shapes\n",
    "print(Xtr.shape, Ytr.shape, Xts.shape, Yts.shape)"
   ]
  },
  {
   "cell_type": "markdown",
   "metadata": {},
   "source": [
    "## k-NN Implementation"
   ]
  },
  {
   "cell_type": "code",
   "execution_count": 61,
   "metadata": {},
   "outputs": [],
   "source": [
    "# Implement the following functions for k-NN\n",
    "#\n",
    "\n",
    "#\n",
    "# knn_predict(Xtr, Ytr, Xts, k)\n",
    "#\n",
    "# input: Xtr - training examples input features, size nXd\n",
    "#        Ytr - label (can assume to be binary 0/1), size nX1\n",
    "#        Xts - test examples input features, for which labels (Yts) \n",
    "#              need to be predicted, size mXd\n",
    "#        k   - k for the k-NN algo \n",
    "#\n",
    "# output: Yts - 0/1 labes for Xts, size mX1\n",
    "#\n",
    "#  This function predicts the binary labels for Xts, given the training\n",
    "#  data Xtr, Ytr and k, using the k-NN algorithm\n",
    "#\n",
    "import math\n",
    "import random\n",
    "def knn_predict(Xtr, Ytr, Xts, k):\n",
    "    # compute in two steps\n",
    "    \n",
    "    # step 1: compute dist matrix between Xts and Xtr\n",
    "    \n",
    "    dist = compute_dist_mat(Xtr, Xts)\n",
    "    dist = np.asarray(dist)\n",
    "    index_sort = np.argsort(dist)\n",
    "    \n",
    "    # step 2: use the dist matrix and use k-nn to find labels for Xts \n",
    "    # hint: function numpy.argsort may be useful\n",
    "    # in case of a tie, pick a class randomly\n",
    "    # YOUR CODE HERE\n",
    "    \n",
    "    neighbours = []\n",
    "    for i in range(0, len(dist)):\n",
    "        neighbours.append([])\n",
    "        neighbours[i] = index_sort[i][0:k].tolist()\n",
    "        for j in range(0, len(neighbours[i])):\n",
    "            neighbours[i][j] = Ytr[neighbours[i][j]]\n",
    "    prediction = []\n",
    "    for i in range(0,len(neighbours)):\n",
    "        prediction.append([])\n",
    "        count_one = 0\n",
    "        count_zero = 0\n",
    "        for j in range(0, k):\n",
    "            if neighbours[i][j] == 1:\n",
    "                count_one = count_one + 1\n",
    "            if neighbours[i][j] == 0:\n",
    "                count_zero = count_zero + 1\n",
    "        if count_one > count_zero:\n",
    "            res = 1\n",
    "        elif count_zero > count_one:\n",
    "            res = 0\n",
    "        else:\n",
    "            res = random.randint(0,1)\n",
    "        prediction[i].append(res)\n",
    "    pred = np.asarray(prediction)\n",
    "    return pred\n",
    "    pass\n",
    "\n",
    "#  compute_dist_mat(Xts, Xtr)\n",
    "#\n",
    "#  input: Xts - test examples, size mXd\n",
    "#         Xtr - training examples, size nXd\n",
    "#  output: L2 distance matrix mXn\n",
    "#\n",
    "#   if Xts is mXd, and Xtr is nXd, this function returns a matrix of size mXn with the L2 distances; the (i,j) \n",
    "#     entry of the matrix is the L2 distance between ith test and jth training example \n",
    "\n",
    "def compute_dist_mat(Xtr, Xts):    \n",
    "    # use two for loops to compute the matrix\n",
    "    # YOUR CODE HERE\n",
    "    dist_matrix = []\n",
    "    for i in range(0, len(Xts)):\n",
    "        dist_matrix.append([])\n",
    "        for j in range(0, len(Xtr)):\n",
    "            x = Xts[i][0] -  Xtr[j][0];\n",
    "            y = Xts[i][1] -  Xtr[j][1];\n",
    "            dist = math.sqrt(x**2 + y**2)\n",
    "            dist_matrix[i].append(dist)\n",
    "    return dist_matrix\n",
    "    pass"
   ]
  },
  {
   "cell_type": "markdown",
   "metadata": {},
   "source": [
    "Problem 1 (30 points): Fill-in code for normalizing features, and the above two functions to implement k-NN."
   ]
  },
  {
   "cell_type": "markdown",
   "metadata": {},
   "source": [
    "Problem 2 (20 points): Run your k-NN implementation on the test data set. Use k=5. Compute accuracy, recall and precision of the test data set (do not use python library functions to compute these). "
   ]
  },
  {
   "cell_type": "code",
   "execution_count": 62,
   "metadata": {},
   "outputs": [
    {
     "name": "stdout",
     "output_type": "stream",
     "text": [
      "accuracy = 0.9122807017543859\n",
      "precession = 0.9915966386554622\n",
      "recall = 0.8939393939393939\n"
     ]
    }
   ],
   "source": [
    "# problem 2 solution\n",
    "predected_label = knn_predict(Xtr, Ytr, Xts, 5)\n",
    "predected_label = predected_label.flatten()\n",
    "Yts = np.asarray(Yts)\n",
    "diff_accuracy = np.subtract(Yts,predected_label)\n",
    "sum_accuracy = np.add(Yts,predected_label)\n",
    "unique_sum, counts_sum = np.unique(sum_accuracy, return_counts=True)\n",
    "unique_diff, counts_diff = np.unique(diff_accuracy, return_counts=True)\n",
    "true_values = dict(zip(unique_diff, counts_diff))[0]\n",
    "total = true_values + dict(zip(unique_diff, counts_diff))[-1]+ dict(zip(unique_diff, counts_diff))[1]\n",
    "accuracy = true_values/total\n",
    "precession = dict(zip(unique_sum, counts_sum))[2]/(dict(zip(unique_sum, counts_sum))[2] + dict(zip(unique_diff, counts_diff))[-1])\n",
    "recall = dict(zip(unique_sum, counts_sum))[2]/(dict(zip(unique_sum, counts_sum))[2] + dict(zip(unique_diff, counts_diff))[1])\n",
    "print(\"accuracy = {}\".format(accuracy))\n",
    "print(\"precession = {}\".format(precession))\n",
    "print(\"recall = {}\".format(recall))"
   ]
  },
  {
   "cell_type": "markdown",
   "metadata": {},
   "source": [
    "## Cross-Validation\n",
    "\n",
    "Priblem 3 (30 points): Now we will implement 5-fold cross-validation to find the best value of $k$. And then using that value of $k$, re-run k-NN on the test data set. (This is adapted from a past Stanford cs231n assignment)"
   ]
  },
  {
   "cell_type": "code",
   "execution_count": 63,
   "metadata": {},
   "outputs": [
    {
     "name": "stdout",
     "output_type": "stream",
     "text": [
      "k = 1, accuracy = 0.787500\n",
      "k = 1, accuracy = 0.787500\n",
      "k = 1, accuracy = 0.875000\n",
      "k = 1, accuracy = 0.873418\n",
      "k = 1, accuracy = 0.898734\n",
      "k = 3, accuracy = 0.787500\n",
      "k = 3, accuracy = 0.812500\n",
      "k = 3, accuracy = 0.887500\n",
      "k = 3, accuracy = 0.911392\n",
      "k = 3, accuracy = 0.886076\n",
      "k = 5, accuracy = 0.825000\n",
      "k = 5, accuracy = 0.837500\n",
      "k = 5, accuracy = 0.900000\n",
      "k = 5, accuracy = 0.936709\n",
      "k = 5, accuracy = 0.911392\n",
      "k = 7, accuracy = 0.837500\n",
      "k = 7, accuracy = 0.837500\n",
      "k = 7, accuracy = 0.875000\n",
      "k = 7, accuracy = 0.949367\n",
      "k = 7, accuracy = 0.924051\n",
      "k = 9, accuracy = 0.850000\n",
      "k = 9, accuracy = 0.837500\n",
      "k = 9, accuracy = 0.900000\n",
      "k = 9, accuracy = 0.924051\n",
      "k = 9, accuracy = 0.936709\n",
      "k = 11, accuracy = 0.850000\n",
      "k = 11, accuracy = 0.825000\n",
      "k = 11, accuracy = 0.912500\n",
      "k = 11, accuracy = 0.924051\n",
      "k = 11, accuracy = 0.936709\n",
      "k = 13, accuracy = 0.887500\n",
      "k = 13, accuracy = 0.825000\n",
      "k = 13, accuracy = 0.912500\n",
      "k = 13, accuracy = 0.924051\n",
      "k = 13, accuracy = 0.911392\n",
      "k = 15, accuracy = 0.875000\n",
      "k = 15, accuracy = 0.837500\n",
      "k = 15, accuracy = 0.925000\n",
      "k = 15, accuracy = 0.924051\n",
      "k = 15, accuracy = 0.911392\n",
      "k = 20, accuracy = 0.850000\n",
      "k = 20, accuracy = 0.850000\n",
      "k = 20, accuracy = 0.912500\n",
      "k = 20, accuracy = 0.911392\n",
      "k = 20, accuracy = 0.936709\n",
      "k = 30, accuracy = 0.850000\n",
      "k = 30, accuracy = 0.837500\n",
      "k = 30, accuracy = 0.937500\n",
      "k = 30, accuracy = 0.936709\n",
      "k = 30, accuracy = 0.936709\n",
      "k = 40, accuracy = 0.825000\n",
      "k = 40, accuracy = 0.837500\n",
      "k = 40, accuracy = 0.937500\n",
      "k = 40, accuracy = 0.924051\n",
      "k = 40, accuracy = 0.949367\n",
      "k = 50, accuracy = 0.837500\n",
      "k = 50, accuracy = 0.850000\n",
      "k = 50, accuracy = 0.937500\n",
      "k = 50, accuracy = 0.924051\n",
      "k = 50, accuracy = 0.962025\n",
      "k = 75, accuracy = 0.825000\n",
      "k = 75, accuracy = 0.850000\n",
      "k = 75, accuracy = 0.937500\n",
      "k = 75, accuracy = 0.924051\n",
      "k = 75, accuracy = 0.962025\n",
      "k = 100, accuracy = 0.800000\n",
      "k = 100, accuracy = 0.862500\n",
      "k = 100, accuracy = 0.925000\n",
      "k = 100, accuracy = 0.924051\n",
      "k = 100, accuracy = 0.962025\n"
     ]
    }
   ],
   "source": [
    "num_folds = 5\n",
    "k_choices = [1, 3, 5, 7, 9, 11, 13, 15, 20, 30, 40, 50, 75, 100]\n",
    "\n",
    "X_train_folds = []\n",
    "y_train_folds = []\n",
    "################################################################################\n",
    "# TODO:                                                                        #\n",
    "# Split up the training data into folds. After splitting, X_train_folds and    #\n",
    "# y_train_folds should each be lists of length num_folds, where                #\n",
    "# y_train_folds[i] is the label vector for the points in X_train_folds[i].     #\n",
    "# Hint: Look up the numpy array_split function.                                #\n",
    "################################################################################\n",
    "X_train_folds = np.array(np.array_split(Xtr, num_folds))\n",
    "y_train_folds = np.array(np.array_split(Ytr, num_folds))\n",
    "pass\n",
    "################################################################################\n",
    "#                                 END OF YOUR CODE                             #\n",
    "################################################################################\n",
    "\n",
    "# A dictionary holding the accuracies for different values of k that we find\n",
    "# when running cross-validation. After running cross-validation,\n",
    "# k_to_accuracies[k] should be a list of length num_folds giving the different\n",
    "# accuracy values that we found when using that value of k.\n",
    "k_to_accuracies = {}\n",
    "\n",
    "\n",
    "################################################################################\n",
    "# TODO:                                                                        #\n",
    "# Perform k-fold cross validation to find the best value of k. For each        #\n",
    "# possible value of k, run the k-nearest-neighbor algorithm num_folds times,   #\n",
    "# where in each case you use all but one of the folds as training data and the #\n",
    "# last fold as a validation set. Store the accuracies for all fold and all     #\n",
    "# values of k in the k_to_accuracies dictionary.                               #\n",
    "################################################################################\n",
    "for k in k_choices:\n",
    "    for n in range(num_folds):\n",
    "        test_num_fold_set = [x for x in range(num_folds) if x != n]\n",
    "        x_training_dat = np.concatenate(X_train_folds[test_num_fold_set])\n",
    "        y_training_dat = np.concatenate(y_train_folds[test_num_fold_set])\n",
    "        predected_label = knn_predict(x_training_dat, y_training_dat, X_train_folds[n], k)\n",
    "        predected_label = predected_label.flatten()\n",
    "        sum_accuracy = np.add(y_train_folds[n],predected_label)\n",
    "        unique, counts = np.unique(sum_accuracy, return_counts=True)\n",
    "        true_values = dict(zip(unique, counts))[0] + dict(zip(unique, counts))[2]\n",
    "        total = true_values + dict(zip(unique, counts))[1]\n",
    "        accuracy = true_values/total\n",
    "        k_to_accuracies.setdefault(k, []).append(accuracy)\n",
    "pass\n",
    "################################################################################\n",
    "#                                 END OF YOUR CODE                             #\n",
    "################################################################################\n",
    "\n",
    "# Print out the computed accuracies\n",
    "for k in sorted(k_to_accuracies):\n",
    "    for accuracy in k_to_accuracies[k]:\n",
    "        print('k = %d, accuracy = %f' % (k, accuracy))"
   ]
  },
  {
   "cell_type": "code",
   "execution_count": 18,
   "metadata": {},
   "outputs": [
    {
     "data": {
      "image/png": "[encoded data removed]",
      "text/plain": [
       "<Figure size 432x288 with 1 Axes>"
      ]
     },
     "metadata": {},
     "output_type": "display_data"
    }
   ],
   "source": [
    "# plot the raw observations\n",
    "import matplotlib.pyplot as plt\n",
    "%matplotlib inline\n",
    "for k in k_choices:\n",
    "    accuracies = k_to_accuracies[k]\n",
    "    plt.scatter([k] * len(accuracies), accuracies)\n",
    "\n",
    "# plot the trend line with error bars that correspond to standard deviation\n",
    "accuracies_mean = np.array([np.mean(v) for k,v in sorted(k_to_accuracies.items())])\n",
    "accuracies_std = np.array([np.std(v) for k,v in sorted(k_to_accuracies.items())])\n",
    "plt.errorbar(k_choices, accuracies_mean, yerr=accuracies_std)\n",
    "plt.title('Cross-validation on k')\n",
    "plt.xlabel('k')\n",
    "plt.ylabel('Cross-validation accuracy')\n",
    "plt.show()"
   ]
  },
  {
   "cell_type": "markdown",
   "metadata": {},
   "source": [
    "Problem 4 (20 points): Based on the cross-validation results above, choose the best value for $k$. Repeat problem 2 with this $k$ (using the entire training data set)."
   ]
  },
  {
   "cell_type": "code",
   "execution_count": 64,
   "metadata": {},
   "outputs": [
    {
     "name": "stdout",
     "output_type": "stream",
     "text": [
      "Best K value is 50\n",
      "accuracy = 0.9239766081871345\n",
      "precession = 0.976\n",
      "recall = 0.9242424242424242\n"
     ]
    }
   ],
   "source": [
    "mean = []\n",
    "for k in sorted(k_to_accuracies):\n",
    "    mean.append(np.mean(k_to_accuracies.get(k)))\n",
    "mean = np.asarray(mean)\n",
    "mean = np.argsort(mean)\n",
    "best_k = k_choices[mean[len(mean) - 1]]\n",
    "print(\"Best K value is {}\".format(best_k))\n",
    "predected_label = knn_predict(Xtr, Ytr, Xts, best_k)\n",
    "predected_label = predected_label.flatten()\n",
    "Yts = np.asarray(Yts)\n",
    "diff_accuracy = np.subtract(Yts,predected_label)\n",
    "sum_accuracy = np.add(Yts,predected_label)\n",
    "unique_sum, counts_sum = np.unique(sum_accuracy, return_counts=True)\n",
    "unique_diff, counts_diff = np.unique(diff_accuracy, return_counts=True)\n",
    "true_values = dict(zip(unique_diff, counts_diff))[0]\n",
    "total = true_values + dict(zip(unique_diff, counts_diff))[-1]+ dict(zip(unique_diff, counts_diff))[1]\n",
    "accuracy = true_values/total\n",
    "precession = dict(zip(unique_sum, counts_sum))[2]/(dict(zip(unique_sum, counts_sum))[2] + dict(zip(unique_diff, counts_diff))[-1])\n",
    "recall = dict(zip(unique_sum, counts_sum))[2]/(dict(zip(unique_sum, counts_sum))[2] + dict(zip(unique_diff, counts_diff))[1])\n",
    "print(\"accuracy = {}\".format(accuracy))\n",
    "print(\"precession = {}\".format(precession))\n",
    "print(\"recall = {}\".format(recall))"
   ]
  },
  {
   "cell_type": "markdown",
   "metadata": {},
   "source": [
    "Note: these extra credit problems are optional and only increase your score marginally. \n",
    "\n",
    "Extra Credit Problem 1 (5 points): Plot decision boundaries for the best $k$, similar to how it is done here:\n",
    "http://scikit-learn.org/stable/auto_examples/neighbors/plot_classification.html\n",
    "\n",
    "Extra Credit Problem 2 (5 points): In problem 1 above, re-write the compute_dist_mat() function with no loops. That may seem non-intuitive, but it is possible to compute the L2 distances using matrix operations (matrix multiplication, addition, etc.) without explicitly doing the double for loop. The advantage of using matrix operations is that they are highly optimized and enable \"vectorization\", and for such computations can give 10-100x speed improvements."
   ]
  }
 ],
 "metadata": {
  "kernelspec": {
   "display_name": "Python 3",
   "language": "python",
   "name": "python3"
  },
  "language_info": {
   "codemirror_mode": {
    "name": "ipython",
    "version": 3
   },
   "file_extension": ".py",
   "mimetype": "text/x-python",
   "name": "python",
   "nbconvert_exporter": "python",
   "pygments_lexer": "ipython3",
   "version": "3.6.5"
  }
 },
 "nbformat": 4,
 "nbformat_minor": 2
}
